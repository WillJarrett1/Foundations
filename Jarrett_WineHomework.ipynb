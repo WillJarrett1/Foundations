{
 "cells": [
  {
   "cell_type": "markdown",
   "metadata": {},
   "source": [
    "# Machine learning on wine\n",
    "\n",
    "**Topics:** Text analysis, linear regression, logistic regression, text analysis, classification\n",
    "\n",
    "**Datasets**\n",
    "\n",
    "- **wine-reviews.csv** Wine reviews scraped from https://www.winemag.com/\n",
    "- **Data dictionary:** just go [here](https://www.winemag.com/buying-guide/tenuta-dellornellaia-2007-masseto-merlot-toscana/) and look at the page\n",
    "\n",
    "## The background\n",
    "\n",
    "You work in the **worst newsroom in the world**, and you've had a hard few weeks at work - a couple stories killed, a few scoops stolen out from under you. It's not going well.\n",
    "\n",
    "And because things just can't get any worse: your boss shows up, carrying a huge binder. She slams it down on your desk.\n",
    "\n",
    "\"You know some machine learning stuff, right?\"\n",
    "\n",
    "You say \"no,\" but she isn't listening. She's giving you an assignment, the _worst assignment_...\n",
    "\n",
    "> Machine learning is the new maps. Let's get some hits!\n",
    ">\n",
    "> **Do some machine learning on this stuff.**\n",
    "\n",
    "\"This stuff\" is wine reviews.\n",
    "\n",
    "## A tiny, meagre bit of help\n",
    "\n",
    "You have a dataset. It has some stuff in it:\n",
    "\n",
    "* **Numbers:**\n",
    "    - Year published\n",
    "    - Alcohol percentage\n",
    "    - Price\n",
    "    - Score\n",
    "    - Bottle size\n",
    "* **Categories:**\n",
    "    - Red vs white\n",
    "    - Different countries\n",
    "    - Importer\n",
    "    - Designation\n",
    "    - Taster\n",
    "    - Variety\n",
    "    - Winery\n",
    "* **Free text:**\n",
    "    - Wine description"
   ]
  },
  {
   "cell_type": "markdown",
   "metadata": {},
   "source": [
    "# Cleaning up your data\n",
    "\n",
    "Many of these pieces - the alcohol, the year produced, the bottle size, the country the wine is from - aren't in a format you can use. Convert the ones to numbers that are numbers, and extract the others from the appropriate strings."
   ]
  },
  {
   "cell_type": "code",
   "execution_count": 1,
   "metadata": {},
   "outputs": [],
   "source": [
    "import pandas as pd\n",
    "import numpy as np\n",
    "import re\n",
    "\n",
    "pd.set_option('display.max_columns', 200)"
   ]
  },
  {
   "cell_type": "code",
   "execution_count": 2,
   "metadata": {},
   "outputs": [
    {
     "data": {
      "text/html": [
       "<div>\n",
       "<style scoped>\n",
       "    .dataframe tbody tr th:only-of-type {\n",
       "        vertical-align: middle;\n",
       "    }\n",
       "\n",
       "    .dataframe tbody tr th {\n",
       "        vertical-align: top;\n",
       "    }\n",
       "\n",
       "    .dataframe thead th {\n",
       "        text-align: right;\n",
       "    }\n",
       "</style>\n",
       "<table border=\"1\" class=\"dataframe\">\n",
       "  <thead>\n",
       "    <tr style=\"text-align: right;\">\n",
       "      <th></th>\n",
       "      <th>url</th>\n",
       "      <th>wine_points</th>\n",
       "      <th>wine_name</th>\n",
       "      <th>wine_desc</th>\n",
       "      <th>taster</th>\n",
       "      <th>price</th>\n",
       "      <th>designation</th>\n",
       "      <th>variety</th>\n",
       "      <th>appellation</th>\n",
       "      <th>winery</th>\n",
       "      <th>alcohol</th>\n",
       "      <th>bottle size</th>\n",
       "      <th>category</th>\n",
       "      <th>importer</th>\n",
       "      <th>date published</th>\n",
       "      <th>user avg rating</th>\n",
       "    </tr>\n",
       "  </thead>\n",
       "  <tbody>\n",
       "    <tr>\n",
       "      <th>0</th>\n",
       "      <td>https://www.winemag.com/buying-guide/artadi-20...</td>\n",
       "      <td>90.0</td>\n",
       "      <td>Artadi 2011 Viñas de Gain  (Rioja)</td>\n",
       "      <td>Inky, minerally aromas of blackberry, black pl...</td>\n",
       "      <td>Michael Schachner</td>\n",
       "      <td>$25,  Buy Now</td>\n",
       "      <td>Viñas de Gain</td>\n",
       "      <td>Tempranillo</td>\n",
       "      <td>Rioja, Northern Spain, Spain</td>\n",
       "      <td>Artadi</td>\n",
       "      <td>14.5%</td>\n",
       "      <td>750 ml</td>\n",
       "      <td>Red</td>\n",
       "      <td>Folio Fine Wine Partners</td>\n",
       "      <td>12/1/2014</td>\n",
       "      <td>Not rated yet [Add Your Review]</td>\n",
       "    </tr>\n",
       "  </tbody>\n",
       "</table>\n",
       "</div>"
      ],
      "text/plain": [
       "                                                 url  wine_points  \\\n",
       "0  https://www.winemag.com/buying-guide/artadi-20...         90.0   \n",
       "\n",
       "                            wine_name  \\\n",
       "0  Artadi 2011 Viñas de Gain  (Rioja)   \n",
       "\n",
       "                                           wine_desc             taster  \\\n",
       "0  Inky, minerally aromas of blackberry, black pl...  Michael Schachner   \n",
       "\n",
       "           price    designation      variety                   appellation  \\\n",
       "0  $25,  Buy Now  Viñas de Gain  Tempranillo  Rioja, Northern Spain, Spain   \n",
       "\n",
       "   winery alcohol bottle size category                  importer  \\\n",
       "0  Artadi   14.5%      750 ml      Red  Folio Fine Wine Partners   \n",
       "\n",
       "  date published                  user avg rating  \n",
       "0      12/1/2014  Not rated yet [Add Your Review]  "
      ]
     },
     "execution_count": 2,
     "metadata": {},
     "output_type": "execute_result"
    }
   ],
   "source": [
    "df = pd.read_csv(\"wine-reviews.csv\")\n",
    "df.head(1)"
   ]
  },
  {
   "cell_type": "code",
   "execution_count": 3,
   "metadata": {
    "scrolled": true
   },
   "outputs": [
    {
     "data": {
      "text/plain": [
       "array(['14.5%', '13.5%', '13%', '12.5%', '14%', '15%', '13.8%', '12%',\n",
       "       '20%', '13.9%', '8%', '14.8%', '13.1%', '14.3%', nan, '7.5%',\n",
       "       '14.1%', '14.7%', '11.5%', '13.4%', '13.7%', '14.2%', '11%',\n",
       "       '8.5%', '14.9%', '15.6%', '14.6%', '15.5%', '14.4%', '11.6%', '7%',\n",
       "       '15.8%', '9%', '16%', '17%', '15.2%', '10%', '12.4%', '12.9%',\n",
       "       '10.5%', '9.4%', '13.3%', '12.8%', '5.5%', '15.1%', '13.6%',\n",
       "       '10.4%', '15.7%', '9.5%', '18%', '14.77%', '12.1%', '16.2%',\n",
       "       '12.6%', '9.9%', '15.3%', '12.7%', '12.3%', '12.2%', '14.63%',\n",
       "       '11.9%', '14.91%', '16.1%', '16.5%', '6.5%', '15.9%', '15.4%',\n",
       "       '13.2%', '11.8%', '12.95%', '19.5%', '17.5%', '10.3%', '20.5%',\n",
       "       '16.3%', '8.6%', '13.64%', '7.6%', '21%', '19%', '15.55%', '11.7%',\n",
       "       '8.9%', '14.19%', '14.57%', '2%', '15.26%', '4.5%', '6%', '13.03%',\n",
       "       '3.5%', '5%', '14.34%', '13.28%', '16.4%', '11.4%', '14.13%',\n",
       "       '13.96%', '14.09%', '14.01%', '9.6%', '14.56%', '50%', '9.1%',\n",
       "       '9.3%', '11.3%', '15.59%', '14.84%', '18.2%', '14.07%', '14.39%',\n",
       "       '14.36%', '13.92%', '13.22%', '12.74%', '10.1%', '13.81%', '17.1%',\n",
       "       '13.55%', '16.7%', '10.7%', '8.8%', '2200%', '12.73%', '11.2%',\n",
       "       '14.95%', '10.6%', '7.9%', '13.65%', '16.6%', '13.54%', '13.38%',\n",
       "       '14.18%', '13.89%', '18.9%', '15.15%', '94%', '14.71%', '17.9%',\n",
       "       '9.2%', '14.89%', '16.8%', '14.24%', '15.37%', '11.1%', '10.8%',\n",
       "       '14.85%', '13.94%', '15.02%', '27%', '95%', '13.88%', '13.12%',\n",
       "       '10.2%', '17.2%', '14.53%', '90%', '13.61%', '13.47%', '18.5%',\n",
       "       '14.25%', '93%', '10.9%', '14.15%', '8.3%', '21.2%', '340%',\n",
       "       '4920%', '13.83%', '25%', '19.1%', '14.23%', '15.88%', '20.4%',\n",
       "       '13.72%', '13.46%', '18.6%', '14.94%', '8.2%', '14.12%', '13.53%',\n",
       "       '10.25%', '14.75%', '14.65%', '14.16%', '14.48%', '12.68%',\n",
       "       '13.63%', '15.87%', '13.75%', '14.82%', '14.21%', '18.1%',\n",
       "       '14.59%', '2016%', '14.32%', '14.08%', '1305%', '13.87%', '14.73%',\n",
       "       '19.8%', '13.45%', '13.82%', '13.14%', '14.43%', '15.25%'],\n",
       "      dtype=object)"
      ]
     },
     "execution_count": 3,
     "metadata": {},
     "output_type": "execute_result"
    }
   ],
   "source": [
    "df['alcohol'].unique()"
   ]
  },
  {
   "cell_type": "code",
   "execution_count": 4,
   "metadata": {
    "scrolled": true
   },
   "outputs": [],
   "source": [
    "#fix prices\n",
    "df['price'] = df['price'].str.replace(r\"[^0-9]\",'')\n",
    "df['price'] = df['price'].replace(r'^\\s*$', np.nan, regex=True).astype(float)"
   ]
  },
  {
   "cell_type": "code",
   "execution_count": 5,
   "metadata": {},
   "outputs": [],
   "source": [
    "#Getting rid of erroneous values in alcohol\n",
    "df = df[df['alcohol'] != \"2200%\"]\n",
    "df = df[df['alcohol'] != \"340%\"]\n",
    "df = df[df['alcohol'] != \"4920%\"]\n",
    "df = df[df['alcohol'] != \"2016%\"]\n",
    "df = df[df['alcohol'] != \"1305%\"]\n",
    "#fix alcohol\n",
    "df['alcohol'] = df['alcohol'].str.replace(r\"%\",'')\n",
    "df['alcohol'] = df['alcohol'].replace(r'^\\s*$', np.nan, regex=True).astype(float)"
   ]
  },
  {
   "cell_type": "code",
   "execution_count": 6,
   "metadata": {},
   "outputs": [
    {
     "data": {
      "text/plain": [
       "array(['750 ml', '500 ml', '750ML', '375 ml', '375ML', '500ML', '1 L',\n",
       "       '1.5 L', '3 L', '1.5L', '3L', '187 ml', '1L'], dtype=object)"
      ]
     },
     "execution_count": 6,
     "metadata": {},
     "output_type": "execute_result"
    }
   ],
   "source": [
    "df['bottle size'].unique()"
   ]
  },
  {
   "cell_type": "code",
   "execution_count": 7,
   "metadata": {},
   "outputs": [
    {
     "data": {
      "text/plain": [
       "array([ 750,  500,  375, 1000, 1500, 3000,  187])"
      ]
     },
     "execution_count": 7,
     "metadata": {},
     "output_type": "execute_result"
    }
   ],
   "source": [
    "#fix bottle size\n",
    "df['bottle size'] = df['bottle size'].str.replace(\"750 ml\", \"750\")\n",
    "df['bottle size'] = df['bottle size'].str.replace(\"500 ml\", \"500\")\n",
    "df['bottle size'] = df['bottle size'].str.replace(\"750ML\", \"750\")\n",
    "df['bottle size'] = df['bottle size'].str.replace(\"375 ml\", \"375\")\n",
    "df['bottle size'] = df['bottle size'].str.replace(\"375ML\", \"375\")\n",
    "df['bottle size'] = df['bottle size'].str.replace(\"500ML\", \"500\")\n",
    "df['bottle size'] = df['bottle size'].str.replace(\"1 L\", \"1000\")\n",
    "df['bottle size'] = df['bottle size'].str.replace(\"1.5 L\", \"1500\")\n",
    "df['bottle size'] = df['bottle size'].str.replace(\"3 L\", \"3000\")\n",
    "df['bottle size'] = df['bottle size'].str.replace(\"1.5L\", \"1500\")\n",
    "df['bottle size'] = df['bottle size'].str.replace(\"3L\", \"3000\")\n",
    "df['bottle size'] = df['bottle size'].str.replace(\"187 ml\", \"187\")\n",
    "df['bottle size'] = df['bottle size'].str.replace(\"1L\", \"1000\")\n",
    "df['bottle size'] = df['bottle size'].astype(int)\n",
    "df['bottle size'].unique()"
   ]
  },
  {
   "cell_type": "code",
   "execution_count": 8,
   "metadata": {},
   "outputs": [
    {
     "data": {
      "text/plain": [
       "array([' Spain', ' US', ' France', ' Argentina', ' Italy', ' Germany',\n",
       "       ' Portugal', ' Chile', ' Australia', ' South Africa', ' Greece',\n",
       "       ' New Zealand', ' Moldova', ' Austria', ' Mexico', ' Canada',\n",
       "       ' Turkey', ' Hungary', ' Brazil', ' Uruguay', ' Israel',\n",
       "       ' Bulgaria', ' Romania', ' Ukraine', ' Lebanon', ' Peru',\n",
       "       ' Slovenia', ' Switzerland', ' England', ' Armenia', ' India',\n",
       "       ' Croatia', ' Kosovo', ' Georgia', ' Cyprus', ' Slovakia',\n",
       "       ' Morocco', ' Luxembourg', ' Macedonia'], dtype=object)"
      ]
     },
     "execution_count": 8,
     "metadata": {},
     "output_type": "execute_result"
    }
   ],
   "source": [
    "#Fix countries\n",
    "df['appellation'] = df['appellation'].str.split(\",\").str[-1]\n",
    "df['appellation'].unique()"
   ]
  },
  {
   "cell_type": "markdown",
   "metadata": {},
   "source": [
    "## What might be interesting in this dataset?\n",
    "\n",
    "Maybe start out playing around _without_ machine learning. Here are some thoughts to get you started:\n",
    "\n",
    "* I've heard that since the 90's wine has gone through [Parkerization](https://www.estatewinebrokers.com/blog/the-parkerization-of-wine-in-the-1990s-and-beyond/), an increase in production of high-alcohol, fruity red wines thanks to the influence of wine critic Robert Parker.\n",
    "* Red and white wines taste different, obviously, but people always use [goofy words to describe them](https://winefolly.com/tutorial/40-wine-descriptions/)\n",
    "* Once upon a time in 1976 [California wines proved themselves against France](https://en.wikipedia.org/wiki/Judgment_of_Paris_(wine)) and France got very angry about it"
   ]
  },
  {
   "cell_type": "code",
   "execution_count": 9,
   "metadata": {},
   "outputs": [
    {
     "data": {
      "text/html": [
       "<div>\n",
       "<style scoped>\n",
       "    .dataframe tbody tr th:only-of-type {\n",
       "        vertical-align: middle;\n",
       "    }\n",
       "\n",
       "    .dataframe tbody tr th {\n",
       "        vertical-align: top;\n",
       "    }\n",
       "\n",
       "    .dataframe thead th {\n",
       "        text-align: right;\n",
       "    }\n",
       "</style>\n",
       "<table border=\"1\" class=\"dataframe\">\n",
       "  <thead>\n",
       "    <tr style=\"text-align: right;\">\n",
       "      <th></th>\n",
       "      <th>url</th>\n",
       "      <th>wine_points</th>\n",
       "      <th>wine_name</th>\n",
       "      <th>wine_desc</th>\n",
       "      <th>taster</th>\n",
       "      <th>price</th>\n",
       "      <th>designation</th>\n",
       "      <th>variety</th>\n",
       "      <th>appellation</th>\n",
       "      <th>winery</th>\n",
       "      <th>alcohol</th>\n",
       "      <th>bottle size</th>\n",
       "      <th>category</th>\n",
       "      <th>importer</th>\n",
       "      <th>date published</th>\n",
       "      <th>user avg rating</th>\n",
       "    </tr>\n",
       "  </thead>\n",
       "  <tbody>\n",
       "    <tr>\n",
       "      <th>0</th>\n",
       "      <td>https://www.winemag.com/buying-guide/artadi-20...</td>\n",
       "      <td>90.0</td>\n",
       "      <td>Artadi 2011 Viñas de Gain  (Rioja)</td>\n",
       "      <td>Inky, minerally aromas of blackberry, black pl...</td>\n",
       "      <td>Michael Schachner</td>\n",
       "      <td>25.0</td>\n",
       "      <td>Viñas de Gain</td>\n",
       "      <td>Tempranillo</td>\n",
       "      <td>Spain</td>\n",
       "      <td>Artadi</td>\n",
       "      <td>14.5</td>\n",
       "      <td>750</td>\n",
       "      <td>Red</td>\n",
       "      <td>Folio Fine Wine Partners</td>\n",
       "      <td>12/1/2014</td>\n",
       "      <td>Not rated yet [Add Your Review]</td>\n",
       "    </tr>\n",
       "  </tbody>\n",
       "</table>\n",
       "</div>"
      ],
      "text/plain": [
       "                                                 url  wine_points  \\\n",
       "0  https://www.winemag.com/buying-guide/artadi-20...         90.0   \n",
       "\n",
       "                            wine_name  \\\n",
       "0  Artadi 2011 Viñas de Gain  (Rioja)   \n",
       "\n",
       "                                           wine_desc             taster  \\\n",
       "0  Inky, minerally aromas of blackberry, black pl...  Michael Schachner   \n",
       "\n",
       "   price    designation      variety appellation  winery  alcohol  \\\n",
       "0   25.0  Viñas de Gain  Tempranillo       Spain  Artadi     14.5   \n",
       "\n",
       "   bottle size category                  importer date published  \\\n",
       "0          750      Red  Folio Fine Wine Partners      12/1/2014   \n",
       "\n",
       "                   user avg rating  \n",
       "0  Not rated yet [Add Your Review]  "
      ]
     },
     "execution_count": 9,
     "metadata": {},
     "output_type": "execute_result"
    }
   ],
   "source": [
    "df.head(1)"
   ]
  },
  {
   "cell_type": "code",
   "execution_count": 10,
   "metadata": {},
   "outputs": [
    {
     "data": {
      "text/plain": [
       "appellation\n",
       " France       58\n",
       " US           21\n",
       " Italy         8\n",
       " Spain         4\n",
       " Portugal      3\n",
       " Germany       2\n",
       " Hungary       1\n",
       " Chile         1\n",
       " Austria       1\n",
       " Australia     1\n",
       "Name: wine_name, dtype: int64"
      ]
     },
     "execution_count": 10,
     "metadata": {},
     "output_type": "execute_result"
    }
   ],
   "source": [
    "#Top 100 most expensive by country\n",
    "df.sort_values('price', ascending=False).head(100).groupby('appellation')['wine_name'].count().sort_values(ascending=False)"
   ]
  },
  {
   "cell_type": "code",
   "execution_count": 11,
   "metadata": {},
   "outputs": [
    {
     "data": {
      "text/plain": [
       "category\n",
       "Red            55\n",
       "White          24\n",
       "Sparkling      15\n",
       "Port/Sherry     3\n",
       "Dessert         3\n",
       "Name: wine_name, dtype: int64"
      ]
     },
     "execution_count": 11,
     "metadata": {},
     "output_type": "execute_result"
    }
   ],
   "source": [
    "#Top 100 most expensive by type\n",
    "df.sort_values('price', ascending=False).head(100).groupby('category')['wine_name'].count().sort_values(ascending=False)"
   ]
  },
  {
   "cell_type": "code",
   "execution_count": 12,
   "metadata": {},
   "outputs": [
    {
     "data": {
      "text/plain": [
       "taster\n",
       "Roger Voss             7985\n",
       "Michael Schachner      5119\n",
       "Paul Gregutt           3646\n",
       "Joe Czerwinski         2532\n",
       "Virginie Boone         2058\n",
       "Kerin O’Keefe          1814\n",
       "Matt Kettmann          1493\n",
       "Sean P. Sullivan       1111\n",
       "Anne Krebiehl MW        957\n",
       "Jim Gordon              844\n",
       "Anna Lee C. Iijima      813\n",
       "Lauren Buzzeo           528\n",
       "Susan Kostrzewa         492\n",
       "Alexander Peartree      132\n",
       "Jeff Jenssen             85\n",
       "Mike DeSimone            61\n",
       "Christina Pickard        59\n",
       "Carrie Dykes             39\n",
       "Fiona Adams              24\n",
       "Marshall Tilden III      10\n",
       "Name: wine_name, dtype: int64"
      ]
     },
     "execution_count": 12,
     "metadata": {},
     "output_type": "execute_result"
    }
   ],
   "source": [
    "#Top 10 most prolific tasters\n",
    "df.groupby('taster')['wine_name'].count().sort_values(ascending=False)"
   ]
  },
  {
   "cell_type": "code",
   "execution_count": 13,
   "metadata": {},
   "outputs": [
    {
     "data": {
      "text/plain": [
       "<AxesSubplot:xlabel='date published'>"
      ]
     },
     "execution_count": 13,
     "metadata": {},
     "output_type": "execute_result"
    },
    {
     "data": {
      "image/png": "[encoded data removed]",
      "text/plain": [
       "<Figure size 432x288 with 1 Axes>"
      ]
     },
     "metadata": {
      "needs_background": "light"
     },
     "output_type": "display_data"
    }
   ],
   "source": [
    "#Mean price of wines reviewed each year\n",
    "df['date published'] = pd.to_datetime(df['date published'])\n",
    "df.groupby(df['date published'].dt.year).price.mean().plot()"
   ]
  },
  {
   "cell_type": "code",
   "execution_count": 14,
   "metadata": {},
   "outputs": [
    {
     "data": {
      "text/plain": [
       "<AxesSubplot:xlabel='date published'>"
      ]
     },
     "execution_count": 14,
     "metadata": {},
     "output_type": "execute_result"
    },
    {
     "data": {
      "image/png": "[encoded data removed]",
      "text/plain": [
       "<Figure size 432x288 with 1 Axes>"
      ]
     },
     "metadata": {
      "needs_background": "light"
     },
     "output_type": "display_data"
    }
   ],
   "source": [
    "#Mean points for wines reviewed each year\n",
    "df.groupby(df['date published'].dt.year).wine_points.mean().plot()"
   ]
  },
  {
   "cell_type": "markdown",
   "metadata": {},
   "source": [
    "## But machine learning?\n",
    "\n",
    "Well, you can usually break machine learning down into a few different things. These aren't necessarily perfect ways of categorizing things, but eh, close enough.\n",
    "\n",
    "* **Predicting a number**\n",
    "    - Linear regression\n",
    "    - For example, how does a change in unemployment translate into a change in life expectancy?\n",
    "* **Predicting a category** (aka classification)\n",
    "    - Lots of algos options: logistic regression, random forest, etc\n",
    "    - For example, predicting cuisines based on ingredients\n",
    "* **Seeing what influences a numeric outcome**\n",
    "    - Linear regression since the output is a number\n",
    "    - For example, minority and poverty status on test scores \n",
    "* **Seeing what influences a categorical outcome**\n",
    "    - Logistic regression since the output is a category\n",
    "    - Race and car speed for if you get a waring vs ticket\n",
    "    - Wet/dry pavement and car weight if you survive or not in a car crash)\n",
    "\n",
    "We have numbers, we have categories, we have all sorts of stuff. **What are some ways we can mash them together and use machine learning?**\n",
    "\n",
    "### Brainstorm some ideas\n",
    "\n",
    "Use the categories above to try to come up with some ideas. Be sure to scroll up where I break down categories vs numbers vs text!\n",
    "\n",
    "**I'll give you one idea for free:** if you don't have any ideas, start off by creating a classifier that determines whether a wine is white or red based on the wine's description."
   ]
  },
  {
   "cell_type": "code",
   "execution_count": 15,
   "metadata": {},
   "outputs": [],
   "source": [
    "#How does country of origin impact alcohol content?"
   ]
  },
  {
   "cell_type": "code",
   "execution_count": 16,
   "metadata": {},
   "outputs": [],
   "source": [
    "#How does description impact points?"
   ]
  },
  {
   "cell_type": "code",
   "execution_count": 17,
   "metadata": {},
   "outputs": [],
   "source": [
    "#Are points most impacted by country of origin, description, alcohol content, taster, or category?"
   ]
  },
  {
   "cell_type": "code",
   "execution_count": 18,
   "metadata": {},
   "outputs": [],
   "source": [
    "#Which flavours are most common in which countries' wines?"
   ]
  },
  {
   "cell_type": "markdown",
   "metadata": {},
   "source": [
    "You can also go to https://library.columbia.edu and see if you can find some academic papers about wine. I'm sure they'll inspire you! (and they might even have some ML ideas in them you can steal, too)"
   ]
  },
  {
   "cell_type": "markdown",
   "metadata": {},
   "source": [
    "# Implement 2 of your machine learning ideas"
   ]
  },
  {
   "cell_type": "markdown",
   "metadata": {},
   "source": [
    "### Predictor of country based on wine description"
   ]
  },
  {
   "cell_type": "code",
   "execution_count": null,
   "metadata": {},
   "outputs": [],
   "source": [
    "# Couldn't get this to work - see below"
   ]
  },
  {
   "cell_type": "code",
   "execution_count": 19,
   "metadata": {},
   "outputs": [
    {
     "data": {
      "text/html": [
       "<div>\n",
       "<style scoped>\n",
       "    .dataframe tbody tr th:only-of-type {\n",
       "        vertical-align: middle;\n",
       "    }\n",
       "\n",
       "    .dataframe tbody tr th {\n",
       "        vertical-align: top;\n",
       "    }\n",
       "\n",
       "    .dataframe thead th {\n",
       "        text-align: right;\n",
       "    }\n",
       "</style>\n",
       "<table border=\"1\" class=\"dataframe\">\n",
       "  <thead>\n",
       "    <tr style=\"text-align: right;\">\n",
       "      <th></th>\n",
       "      <th>url</th>\n",
       "      <th>wine_points</th>\n",
       "      <th>wine_name</th>\n",
       "      <th>wine_desc</th>\n",
       "      <th>taster</th>\n",
       "      <th>price</th>\n",
       "      <th>designation</th>\n",
       "      <th>variety</th>\n",
       "      <th>appellation</th>\n",
       "      <th>winery</th>\n",
       "      <th>alcohol</th>\n",
       "      <th>bottle size</th>\n",
       "      <th>category</th>\n",
       "      <th>importer</th>\n",
       "      <th>date published</th>\n",
       "      <th>user avg rating</th>\n",
       "    </tr>\n",
       "  </thead>\n",
       "  <tbody>\n",
       "    <tr>\n",
       "      <th>0</th>\n",
       "      <td>https://www.winemag.com/buying-guide/artadi-20...</td>\n",
       "      <td>90.0</td>\n",
       "      <td>Artadi 2011 Viñas de Gain  (Rioja)</td>\n",
       "      <td>Inky, minerally aromas of blackberry, black pl...</td>\n",
       "      <td>Michael Schachner</td>\n",
       "      <td>25.0</td>\n",
       "      <td>Viñas de Gain</td>\n",
       "      <td>Tempranillo</td>\n",
       "      <td>Spain</td>\n",
       "      <td>Artadi</td>\n",
       "      <td>14.5</td>\n",
       "      <td>750</td>\n",
       "      <td>Red</td>\n",
       "      <td>Folio Fine Wine Partners</td>\n",
       "      <td>2014-12-01</td>\n",
       "      <td>Not rated yet [Add Your Review]</td>\n",
       "    </tr>\n",
       "  </tbody>\n",
       "</table>\n",
       "</div>"
      ],
      "text/plain": [
       "                                                 url  wine_points  \\\n",
       "0  https://www.winemag.com/buying-guide/artadi-20...         90.0   \n",
       "\n",
       "                            wine_name  \\\n",
       "0  Artadi 2011 Viñas de Gain  (Rioja)   \n",
       "\n",
       "                                           wine_desc             taster  \\\n",
       "0  Inky, minerally aromas of blackberry, black pl...  Michael Schachner   \n",
       "\n",
       "   price    designation      variety appellation  winery  alcohol  \\\n",
       "0   25.0  Viñas de Gain  Tempranillo       Spain  Artadi     14.5   \n",
       "\n",
       "   bottle size category                  importer date published  \\\n",
       "0          750      Red  Folio Fine Wine Partners     2014-12-01   \n",
       "\n",
       "                   user avg rating  \n",
       "0  Not rated yet [Add Your Review]  "
      ]
     },
     "execution_count": 19,
     "metadata": {},
     "output_type": "execute_result"
    }
   ],
   "source": [
    "df.head(1)"
   ]
  },
  {
   "cell_type": "code",
   "execution_count": 20,
   "metadata": {},
   "outputs": [],
   "source": [
    "df = df[df['wine_desc'].notna()]"
   ]
  },
  {
   "cell_type": "code",
   "execution_count": 21,
   "metadata": {},
   "outputs": [],
   "source": [
    "from sklearn.feature_extraction.text import CountVectorizer\n",
    "\n",
    "# Make a vectorizer\n",
    "vectorizer = CountVectorizer()\n",
    "\n",
    "# Learn and count the words in df.content\n",
    "matrix = vectorizer.fit_transform(df.wine_desc)\n",
    "\n",
    "# Convert the matrix of counts to a dataframe\n",
    "words_df = pd.DataFrame(matrix.toarray(),\n",
    "                        columns=vectorizer.get_feature_names())"
   ]
  },
  {
   "cell_type": "code",
   "execution_count": 29,
   "metadata": {},
   "outputs": [
    {
     "data": {
      "text/html": [
       "<div>\n",
       "<style scoped>\n",
       "    .dataframe tbody tr th:only-of-type {\n",
       "        vertical-align: middle;\n",
       "    }\n",
       "\n",
       "    .dataframe tbody tr th {\n",
       "        vertical-align: top;\n",
       "    }\n",
       "\n",
       "    .dataframe thead th {\n",
       "        text-align: right;\n",
       "    }\n",
       "</style>\n",
       "<table border=\"1\" class=\"dataframe\">\n",
       "  <thead>\n",
       "    <tr style=\"text-align: right;\">\n",
       "      <th></th>\n",
       "      <th>url</th>\n",
       "      <th>wine_points</th>\n",
       "      <th>wine_name</th>\n",
       "      <th>wine_desc</th>\n",
       "      <th>taster</th>\n",
       "      <th>price</th>\n",
       "      <th>designation</th>\n",
       "      <th>variety</th>\n",
       "      <th>appellation</th>\n",
       "      <th>winery</th>\n",
       "      <th>alcohol</th>\n",
       "      <th>bottle size</th>\n",
       "      <th>category</th>\n",
       "      <th>importer</th>\n",
       "      <th>date published</th>\n",
       "      <th>user avg rating</th>\n",
       "      <th>appellation_label</th>\n",
       "    </tr>\n",
       "  </thead>\n",
       "  <tbody>\n",
       "    <tr>\n",
       "      <th>0</th>\n",
       "      <td>https://www.winemag.com/buying-guide/artadi-20...</td>\n",
       "      <td>90.0</td>\n",
       "      <td>Artadi 2011 Viñas de Gain  (Rioja)</td>\n",
       "      <td>Inky, minerally aromas of blackberry, black pl...</td>\n",
       "      <td>Michael Schachner</td>\n",
       "      <td>25.0</td>\n",
       "      <td>Viñas de Gain</td>\n",
       "      <td>Tempranillo</td>\n",
       "      <td>Spain</td>\n",
       "      <td>Artadi</td>\n",
       "      <td>14.5</td>\n",
       "      <td>750</td>\n",
       "      <td>Red</td>\n",
       "      <td>Folio Fine Wine Partners</td>\n",
       "      <td>2014-12-01</td>\n",
       "      <td>Not rated yet [Add Your Review]</td>\n",
       "      <td>33</td>\n",
       "    </tr>\n",
       "  </tbody>\n",
       "</table>\n",
       "</div>"
      ],
      "text/plain": [
       "                                                 url  wine_points  \\\n",
       "0  https://www.winemag.com/buying-guide/artadi-20...         90.0   \n",
       "\n",
       "                            wine_name  \\\n",
       "0  Artadi 2011 Viñas de Gain  (Rioja)   \n",
       "\n",
       "                                           wine_desc             taster  \\\n",
       "0  Inky, minerally aromas of blackberry, black pl...  Michael Schachner   \n",
       "\n",
       "   price    designation      variety appellation  winery  alcohol  \\\n",
       "0   25.0  Viñas de Gain  Tempranillo       Spain  Artadi     14.5   \n",
       "\n",
       "   bottle size category                  importer date published  \\\n",
       "0          750      Red  Folio Fine Wine Partners     2014-12-01   \n",
       "\n",
       "                   user avg rating  appellation_label  \n",
       "0  Not rated yet [Add Your Review]                 33  "
      ]
     },
     "execution_count": 29,
     "metadata": {},
     "output_type": "execute_result"
    }
   ],
   "source": [
    "from sklearn import preprocessing\n",
    "\n",
    "le = preprocessing.LabelEncoder()\n",
    "df['appellation_label'] = le.fit_transform(df.appellation)\n",
    "df.head(1)"
   ]
  },
  {
   "cell_type": "code",
   "execution_count": 25,
   "metadata": {},
   "outputs": [],
   "source": [
    "X = words_df\n",
    "y = df.appellation_label"
   ]
  },
  {
   "cell_type": "code",
   "execution_count": 26,
   "metadata": {},
   "outputs": [],
   "source": [
    "from sklearn.model_selection import train_test_split\n",
    "\n",
    "X_train, X_test, y_train, y_test = train_test_split(X, y)"
   ]
  },
  {
   "cell_type": "code",
   "execution_count": 27,
   "metadata": {
    "scrolled": true
   },
   "outputs": [
    {
     "data": {
      "text/plain": [
       "LinearSVC(max_iter=10000)"
      ]
     },
     "execution_count": 27,
     "metadata": {},
     "output_type": "execute_result"
    }
   ],
   "source": [
    "from sklearn.svm import LinearSVC\n",
    "clf = LinearSVC(max_iter=10000)\n",
    "clf.fit(X_train, y_train)"
   ]
  },
  {
   "cell_type": "code",
   "execution_count": 28,
   "metadata": {},
   "outputs": [
    {
     "ename": "ValueError",
     "evalue": "Shape of passed values is (34, 34), indices imply (39, 39)",
     "output_type": "error",
     "traceback": [
      "\u001b[1;31m---------------------------------------------------------------------------\u001b[0m",
      "\u001b[1;31mValueError\u001b[0m                                Traceback (most recent call last)",
      "\u001b[1;32m~\\AppData\\Local\\Programs\\Python\\Python38\\lib\\site-packages\\pandas\\core\\internals\\managers.py\u001b[0m in \u001b[0;36mcreate_block_manager_from_blocks\u001b[1;34m(blocks, axes)\u001b[0m\n\u001b[0;32m   1661\u001b[0m                 blocks = [\n\u001b[1;32m-> 1662\u001b[1;33m                     \u001b[0mmake_block\u001b[0m\u001b[1;33m(\u001b[0m\u001b[0mvalues\u001b[0m\u001b[1;33m=\u001b[0m\u001b[0mblocks\u001b[0m\u001b[1;33m[\u001b[0m\u001b[1;36m0\u001b[0m\u001b[1;33m]\u001b[0m\u001b[1;33m,\u001b[0m \u001b[0mplacement\u001b[0m\u001b[1;33m=\u001b[0m\u001b[0mslice\u001b[0m\u001b[1;33m(\u001b[0m\u001b[1;36m0\u001b[0m\u001b[1;33m,\u001b[0m \u001b[0mlen\u001b[0m\u001b[1;33m(\u001b[0m\u001b[0maxes\u001b[0m\u001b[1;33m[\u001b[0m\u001b[1;36m0\u001b[0m\u001b[1;33m]\u001b[0m\u001b[1;33m)\u001b[0m\u001b[1;33m)\u001b[0m\u001b[1;33m)\u001b[0m\u001b[1;33m\u001b[0m\u001b[1;33m\u001b[0m\u001b[0m\n\u001b[0m\u001b[0;32m   1663\u001b[0m                 ]\n",
      "\u001b[1;32m~\\AppData\\Local\\Programs\\Python\\Python38\\lib\\site-packages\\pandas\\core\\internals\\blocks.py\u001b[0m in \u001b[0;36mmake_block\u001b[1;34m(values, placement, klass, ndim, dtype)\u001b[0m\n\u001b[0;32m   2721\u001b[0m \u001b[1;33m\u001b[0m\u001b[0m\n\u001b[1;32m-> 2722\u001b[1;33m     \u001b[1;32mreturn\u001b[0m \u001b[0mklass\u001b[0m\u001b[1;33m(\u001b[0m\u001b[0mvalues\u001b[0m\u001b[1;33m,\u001b[0m \u001b[0mndim\u001b[0m\u001b[1;33m=\u001b[0m\u001b[0mndim\u001b[0m\u001b[1;33m,\u001b[0m \u001b[0mplacement\u001b[0m\u001b[1;33m=\u001b[0m\u001b[0mplacement\u001b[0m\u001b[1;33m)\u001b[0m\u001b[1;33m\u001b[0m\u001b[1;33m\u001b[0m\u001b[0m\n\u001b[0m\u001b[0;32m   2723\u001b[0m \u001b[1;33m\u001b[0m\u001b[0m\n",
      "\u001b[1;32m~\\AppData\\Local\\Programs\\Python\\Python38\\lib\\site-packages\\pandas\\core\\internals\\blocks.py\u001b[0m in \u001b[0;36m__init__\u001b[1;34m(self, values, placement, ndim)\u001b[0m\n\u001b[0;32m    129\u001b[0m         \u001b[1;32mif\u001b[0m \u001b[0mself\u001b[0m\u001b[1;33m.\u001b[0m\u001b[0m_validate_ndim\u001b[0m \u001b[1;32mand\u001b[0m \u001b[0mself\u001b[0m\u001b[1;33m.\u001b[0m\u001b[0mndim\u001b[0m \u001b[1;32mand\u001b[0m \u001b[0mlen\u001b[0m\u001b[1;33m(\u001b[0m\u001b[0mself\u001b[0m\u001b[1;33m.\u001b[0m\u001b[0mmgr_locs\u001b[0m\u001b[1;33m)\u001b[0m \u001b[1;33m!=\u001b[0m \u001b[0mlen\u001b[0m\u001b[1;33m(\u001b[0m\u001b[0mself\u001b[0m\u001b[1;33m.\u001b[0m\u001b[0mvalues\u001b[0m\u001b[1;33m)\u001b[0m\u001b[1;33m:\u001b[0m\u001b[1;33m\u001b[0m\u001b[1;33m\u001b[0m\u001b[0m\n\u001b[1;32m--> 130\u001b[1;33m             raise ValueError(\n\u001b[0m\u001b[0;32m    131\u001b[0m                 \u001b[1;34mf\"Wrong number of items passed {len(self.values)}, \"\u001b[0m\u001b[1;33m\u001b[0m\u001b[1;33m\u001b[0m\u001b[0m\n",
      "\u001b[1;31mValueError\u001b[0m: Wrong number of items passed 34, placement implies 39",
      "\nDuring handling of the above exception, another exception occurred:\n",
      "\u001b[1;31mValueError\u001b[0m                                Traceback (most recent call last)",
      "\u001b[1;32m<ipython-input-28-6f7a08935465>\u001b[0m in \u001b[0;36m<module>\u001b[1;34m\u001b[0m\n\u001b[0;32m      6\u001b[0m \u001b[1;33m\u001b[0m\u001b[0m\n\u001b[0;32m      7\u001b[0m \u001b[0mlabel_names\u001b[0m \u001b[1;33m=\u001b[0m \u001b[0mpd\u001b[0m\u001b[1;33m.\u001b[0m\u001b[0mSeries\u001b[0m\u001b[1;33m(\u001b[0m\u001b[0mle\u001b[0m\u001b[1;33m.\u001b[0m\u001b[0mclasses_\u001b[0m\u001b[1;33m)\u001b[0m\u001b[1;33m\u001b[0m\u001b[1;33m\u001b[0m\u001b[0m\n\u001b[1;32m----> 8\u001b[1;33m scores = pd.DataFrame(matrix,\n\u001b[0m\u001b[0;32m      9\u001b[0m      \u001b[0mcolumns\u001b[0m\u001b[1;33m=\u001b[0m\u001b[1;34m'Predicted '\u001b[0m \u001b[1;33m+\u001b[0m \u001b[0mlabel_names\u001b[0m\u001b[1;33m,\u001b[0m\u001b[1;33m\u001b[0m\u001b[1;33m\u001b[0m\u001b[0m\n\u001b[0;32m     10\u001b[0m      index='Is ' + label_names).div(matrix.sum(axis=1), axis=0)\n",
      "\u001b[1;32m~\\AppData\\Local\\Programs\\Python\\Python38\\lib\\site-packages\\pandas\\core\\frame.py\u001b[0m in \u001b[0;36m__init__\u001b[1;34m(self, data, index, columns, dtype, copy)\u001b[0m\n\u001b[0;32m    495\u001b[0m                 \u001b[0mmgr\u001b[0m \u001b[1;33m=\u001b[0m \u001b[0minit_dict\u001b[0m\u001b[1;33m(\u001b[0m\u001b[1;33m{\u001b[0m\u001b[0mdata\u001b[0m\u001b[1;33m.\u001b[0m\u001b[0mname\u001b[0m\u001b[1;33m:\u001b[0m \u001b[0mdata\u001b[0m\u001b[1;33m}\u001b[0m\u001b[1;33m,\u001b[0m \u001b[0mindex\u001b[0m\u001b[1;33m,\u001b[0m \u001b[0mcolumns\u001b[0m\u001b[1;33m,\u001b[0m \u001b[0mdtype\u001b[0m\u001b[1;33m=\u001b[0m\u001b[0mdtype\u001b[0m\u001b[1;33m)\u001b[0m\u001b[1;33m\u001b[0m\u001b[1;33m\u001b[0m\u001b[0m\n\u001b[0;32m    496\u001b[0m             \u001b[1;32melse\u001b[0m\u001b[1;33m:\u001b[0m\u001b[1;33m\u001b[0m\u001b[1;33m\u001b[0m\u001b[0m\n\u001b[1;32m--> 497\u001b[1;33m                 \u001b[0mmgr\u001b[0m \u001b[1;33m=\u001b[0m \u001b[0minit_ndarray\u001b[0m\u001b[1;33m(\u001b[0m\u001b[0mdata\u001b[0m\u001b[1;33m,\u001b[0m \u001b[0mindex\u001b[0m\u001b[1;33m,\u001b[0m \u001b[0mcolumns\u001b[0m\u001b[1;33m,\u001b[0m \u001b[0mdtype\u001b[0m\u001b[1;33m=\u001b[0m\u001b[0mdtype\u001b[0m\u001b[1;33m,\u001b[0m \u001b[0mcopy\u001b[0m\u001b[1;33m=\u001b[0m\u001b[0mcopy\u001b[0m\u001b[1;33m)\u001b[0m\u001b[1;33m\u001b[0m\u001b[1;33m\u001b[0m\u001b[0m\n\u001b[0m\u001b[0;32m    498\u001b[0m \u001b[1;33m\u001b[0m\u001b[0m\n\u001b[0;32m    499\u001b[0m         \u001b[1;31m# For data is list-like, or Iterable (will consume into list)\u001b[0m\u001b[1;33m\u001b[0m\u001b[1;33m\u001b[0m\u001b[1;33m\u001b[0m\u001b[0m\n",
      "\u001b[1;32m~\\AppData\\Local\\Programs\\Python\\Python38\\lib\\site-packages\\pandas\\core\\internals\\construction.py\u001b[0m in \u001b[0;36minit_ndarray\u001b[1;34m(values, index, columns, dtype, copy)\u001b[0m\n\u001b[0;32m    232\u001b[0m         \u001b[0mblock_values\u001b[0m \u001b[1;33m=\u001b[0m \u001b[1;33m[\u001b[0m\u001b[0mvalues\u001b[0m\u001b[1;33m]\u001b[0m\u001b[1;33m\u001b[0m\u001b[1;33m\u001b[0m\u001b[0m\n\u001b[0;32m    233\u001b[0m \u001b[1;33m\u001b[0m\u001b[0m\n\u001b[1;32m--> 234\u001b[1;33m     \u001b[1;32mreturn\u001b[0m \u001b[0mcreate_block_manager_from_blocks\u001b[0m\u001b[1;33m(\u001b[0m\u001b[0mblock_values\u001b[0m\u001b[1;33m,\u001b[0m \u001b[1;33m[\u001b[0m\u001b[0mcolumns\u001b[0m\u001b[1;33m,\u001b[0m \u001b[0mindex\u001b[0m\u001b[1;33m]\u001b[0m\u001b[1;33m)\u001b[0m\u001b[1;33m\u001b[0m\u001b[1;33m\u001b[0m\u001b[0m\n\u001b[0m\u001b[0;32m    235\u001b[0m \u001b[1;33m\u001b[0m\u001b[0m\n\u001b[0;32m    236\u001b[0m \u001b[1;33m\u001b[0m\u001b[0m\n",
      "\u001b[1;32m~\\AppData\\Local\\Programs\\Python\\Python38\\lib\\site-packages\\pandas\\core\\internals\\managers.py\u001b[0m in \u001b[0;36mcreate_block_manager_from_blocks\u001b[1;34m(blocks, axes)\u001b[0m\n\u001b[0;32m   1670\u001b[0m         \u001b[0mblocks\u001b[0m \u001b[1;33m=\u001b[0m \u001b[1;33m[\u001b[0m\u001b[0mgetattr\u001b[0m\u001b[1;33m(\u001b[0m\u001b[0mb\u001b[0m\u001b[1;33m,\u001b[0m \u001b[1;34m\"values\"\u001b[0m\u001b[1;33m,\u001b[0m \u001b[0mb\u001b[0m\u001b[1;33m)\u001b[0m \u001b[1;32mfor\u001b[0m \u001b[0mb\u001b[0m \u001b[1;32min\u001b[0m \u001b[0mblocks\u001b[0m\u001b[1;33m]\u001b[0m\u001b[1;33m\u001b[0m\u001b[1;33m\u001b[0m\u001b[0m\n\u001b[0;32m   1671\u001b[0m         \u001b[0mtot_items\u001b[0m \u001b[1;33m=\u001b[0m \u001b[0msum\u001b[0m\u001b[1;33m(\u001b[0m\u001b[0mb\u001b[0m\u001b[1;33m.\u001b[0m\u001b[0mshape\u001b[0m\u001b[1;33m[\u001b[0m\u001b[1;36m0\u001b[0m\u001b[1;33m]\u001b[0m \u001b[1;32mfor\u001b[0m \u001b[0mb\u001b[0m \u001b[1;32min\u001b[0m \u001b[0mblocks\u001b[0m\u001b[1;33m)\u001b[0m\u001b[1;33m\u001b[0m\u001b[1;33m\u001b[0m\u001b[0m\n\u001b[1;32m-> 1672\u001b[1;33m         \u001b[1;32mraise\u001b[0m \u001b[0mconstruction_error\u001b[0m\u001b[1;33m(\u001b[0m\u001b[0mtot_items\u001b[0m\u001b[1;33m,\u001b[0m \u001b[0mblocks\u001b[0m\u001b[1;33m[\u001b[0m\u001b[1;36m0\u001b[0m\u001b[1;33m]\u001b[0m\u001b[1;33m.\u001b[0m\u001b[0mshape\u001b[0m\u001b[1;33m[\u001b[0m\u001b[1;36m1\u001b[0m\u001b[1;33m:\u001b[0m\u001b[1;33m]\u001b[0m\u001b[1;33m,\u001b[0m \u001b[0maxes\u001b[0m\u001b[1;33m,\u001b[0m \u001b[0me\u001b[0m\u001b[1;33m)\u001b[0m\u001b[1;33m\u001b[0m\u001b[1;33m\u001b[0m\u001b[0m\n\u001b[0m\u001b[0;32m   1673\u001b[0m \u001b[1;33m\u001b[0m\u001b[0m\n\u001b[0;32m   1674\u001b[0m \u001b[1;33m\u001b[0m\u001b[0m\n",
      "\u001b[1;31mValueError\u001b[0m: Shape of passed values is (34, 34), indices imply (39, 39)"
     ]
    }
   ],
   "source": [
    "from sklearn.metrics import confusion_matrix\n",
    "\n",
    "y_true = y_test\n",
    "y_pred = clf.predict(X_test)\n",
    "matrix = confusion_matrix(y_true, y_pred)\n",
    "\n",
    "label_names = pd.Series(le.classes_)\n",
    "scores = pd.DataFrame(matrix,\n",
    "     columns='Predicted ' + label_names,\n",
    "     index='Is ' + label_names).div(matrix.sum(axis=1), axis=0)\n",
    "scores.style.background_gradient(cmap='YlGnBu')"
   ]
  },
  {
   "cell_type": "markdown",
   "metadata": {},
   "source": [
    "### Effect of alcohol + price on points"
   ]
  },
  {
   "cell_type": "code",
   "execution_count": 30,
   "metadata": {},
   "outputs": [
    {
     "data": {
      "text/html": [
       "<table class=\"simpletable\">\n",
       "<caption>OLS Regression Results</caption>\n",
       "<tr>\n",
       "  <th>Dep. Variable:</th>       <td>wine_points</td>   <th>  R-squared:         </th> <td>   0.055</td> \n",
       "</tr>\n",
       "<tr>\n",
       "  <th>Model:</th>                   <td>OLS</td>       <th>  Adj. R-squared:    </th> <td>   0.055</td> \n",
       "</tr>\n",
       "<tr>\n",
       "  <th>Method:</th>             <td>Least Squares</td>  <th>  F-statistic:       </th> <td>   972.3</td> \n",
       "</tr>\n",
       "<tr>\n",
       "  <th>Date:</th>             <td>Wed, 31 Mar 2021</td> <th>  Prob (F-statistic):</th>  <td>  0.00</td>  \n",
       "</tr>\n",
       "<tr>\n",
       "  <th>Time:</th>                 <td>14:52:07</td>     <th>  Log-Likelihood:    </th> <td> -87273.</td> \n",
       "</tr>\n",
       "<tr>\n",
       "  <th>No. Observations:</th>      <td> 33305</td>      <th>  AIC:               </th> <td>1.746e+05</td>\n",
       "</tr>\n",
       "<tr>\n",
       "  <th>Df Residuals:</th>          <td> 33302</td>      <th>  BIC:               </th> <td>1.746e+05</td>\n",
       "</tr>\n",
       "<tr>\n",
       "  <th>Df Model:</th>              <td>     2</td>      <th>                     </th>     <td> </td>    \n",
       "</tr>\n",
       "<tr>\n",
       "  <th>Covariance Type:</th>      <td>nonrobust</td>    <th>                     </th>     <td> </td>    \n",
       "</tr>\n",
       "</table>\n",
       "<table class=\"simpletable\">\n",
       "<tr>\n",
       "      <td></td>         <th>coef</th>     <th>std err</th>      <th>t</th>      <th>P>|t|</th>  <th>[0.025</th>    <th>0.975]</th>  \n",
       "</tr>\n",
       "<tr>\n",
       "  <th>Intercept</th> <td>   84.8750</td> <td>    0.158</td> <td>  536.163</td> <td> 0.000</td> <td>   84.565</td> <td>   85.185</td>\n",
       "</tr>\n",
       "<tr>\n",
       "  <th>alcohol</th>   <td>    0.2580</td> <td>    0.012</td> <td>   22.338</td> <td> 0.000</td> <td>    0.235</td> <td>    0.281</td>\n",
       "</tr>\n",
       "<tr>\n",
       "  <th>price</th>     <td>    0.0075</td> <td>    0.000</td> <td>   36.679</td> <td> 0.000</td> <td>    0.007</td> <td>    0.008</td>\n",
       "</tr>\n",
       "</table>\n",
       "<table class=\"simpletable\">\n",
       "<tr>\n",
       "  <th>Omnibus:</th>       <td>5869.887</td> <th>  Durbin-Watson:     </th> <td>   0.251</td> \n",
       "</tr>\n",
       "<tr>\n",
       "  <th>Prob(Omnibus):</th>  <td> 0.000</td>  <th>  Jarque-Bera (JB):  </th> <td>40296.912</td>\n",
       "</tr>\n",
       "<tr>\n",
       "  <th>Skew:</th>           <td>-0.674</td>  <th>  Prob(JB):          </th> <td>    0.00</td> \n",
       "</tr>\n",
       "<tr>\n",
       "  <th>Kurtosis:</th>       <td> 8.217</td>  <th>  Cond. No.          </th> <td>    850.</td> \n",
       "</tr>\n",
       "</table><br/><br/>Notes:<br/>[1] Standard Errors assume that the covariance matrix of the errors is correctly specified."
      ],
      "text/plain": [
       "<class 'statsmodels.iolib.summary.Summary'>\n",
       "\"\"\"\n",
       "                            OLS Regression Results                            \n",
       "==============================================================================\n",
       "Dep. Variable:            wine_points   R-squared:                       0.055\n",
       "Model:                            OLS   Adj. R-squared:                  0.055\n",
       "Method:                 Least Squares   F-statistic:                     972.3\n",
       "Date:                Wed, 31 Mar 2021   Prob (F-statistic):               0.00\n",
       "Time:                        14:52:07   Log-Likelihood:                -87273.\n",
       "No. Observations:               33305   AIC:                         1.746e+05\n",
       "Df Residuals:                   33302   BIC:                         1.746e+05\n",
       "Df Model:                           2                                         \n",
       "Covariance Type:            nonrobust                                         \n",
       "==============================================================================\n",
       "                 coef    std err          t      P>|t|      [0.025      0.975]\n",
       "------------------------------------------------------------------------------\n",
       "Intercept     84.8750      0.158    536.163      0.000      84.565      85.185\n",
       "alcohol        0.2580      0.012     22.338      0.000       0.235       0.281\n",
       "price          0.0075      0.000     36.679      0.000       0.007       0.008\n",
       "==============================================================================\n",
       "Omnibus:                     5869.887   Durbin-Watson:                   0.251\n",
       "Prob(Omnibus):                  0.000   Jarque-Bera (JB):            40296.912\n",
       "Skew:                          -0.674   Prob(JB):                         0.00\n",
       "Kurtosis:                       8.217   Cond. No.                         850.\n",
       "==============================================================================\n",
       "\n",
       "Notes:\n",
       "[1] Standard Errors assume that the covariance matrix of the errors is correctly specified.\n",
       "\"\"\""
      ]
     },
     "execution_count": 30,
     "metadata": {},
     "output_type": "execute_result"
    }
   ],
   "source": [
    "import statsmodels.formula.api as smf\n",
    "model = smf.ols('wine_points ~ alcohol + price', data=df)\n",
    "results = model.fit()\n",
    "results.summary()"
   ]
  },
  {
   "cell_type": "markdown",
   "metadata": {},
   "source": [
    "### Is the wine red? using description"
   ]
  },
  {
   "cell_type": "code",
   "execution_count": 36,
   "metadata": {},
   "outputs": [],
   "source": [
    "df['red'] = df['category'].str.contains('Red').astype(int)"
   ]
  },
  {
   "cell_type": "code",
   "execution_count": 41,
   "metadata": {},
   "outputs": [
    {
     "data": {
      "text/html": [
       "<div>\n",
       "<style scoped>\n",
       "    .dataframe tbody tr th:only-of-type {\n",
       "        vertical-align: middle;\n",
       "    }\n",
       "\n",
       "    .dataframe tbody tr th {\n",
       "        vertical-align: top;\n",
       "    }\n",
       "\n",
       "    .dataframe thead th {\n",
       "        text-align: right;\n",
       "    }\n",
       "</style>\n",
       "<table border=\"1\" class=\"dataframe\">\n",
       "  <thead>\n",
       "    <tr style=\"text-align: right;\">\n",
       "      <th></th>\n",
       "      <th>red</th>\n",
       "      <th>ink</th>\n",
       "      <th>blackberry</th>\n",
       "      <th>currant</th>\n",
       "      <th>peach</th>\n",
       "      <th>light</th>\n",
       "      <th>black</th>\n",
       "      <th>rich</th>\n",
       "      <th>fruit</th>\n",
       "      <th>floral</th>\n",
       "      <th>cherr</th>\n",
       "      <th>plum</th>\n",
       "      <th>lemon</th>\n",
       "    </tr>\n",
       "  </thead>\n",
       "  <tbody>\n",
       "    <tr>\n",
       "      <th>0</th>\n",
       "      <td>1</td>\n",
       "      <td>0</td>\n",
       "      <td>1</td>\n",
       "      <td>0</td>\n",
       "      <td>0</td>\n",
       "      <td>0</td>\n",
       "      <td>1</td>\n",
       "      <td>0</td>\n",
       "      <td>0</td>\n",
       "      <td>0</td>\n",
       "      <td>0</td>\n",
       "      <td>1</td>\n",
       "      <td>0</td>\n",
       "    </tr>\n",
       "    <tr>\n",
       "      <th>1</th>\n",
       "      <td>0</td>\n",
       "      <td>0</td>\n",
       "      <td>0</td>\n",
       "      <td>0</td>\n",
       "      <td>1</td>\n",
       "      <td>0</td>\n",
       "      <td>0</td>\n",
       "      <td>1</td>\n",
       "      <td>1</td>\n",
       "      <td>0</td>\n",
       "      <td>0</td>\n",
       "      <td>0</td>\n",
       "      <td>0</td>\n",
       "    </tr>\n",
       "    <tr>\n",
       "      <th>2</th>\n",
       "      <td>0</td>\n",
       "      <td>0</td>\n",
       "      <td>0</td>\n",
       "      <td>0</td>\n",
       "      <td>0</td>\n",
       "      <td>0</td>\n",
       "      <td>0</td>\n",
       "      <td>0</td>\n",
       "      <td>1</td>\n",
       "      <td>0</td>\n",
       "      <td>0</td>\n",
       "      <td>0</td>\n",
       "      <td>0</td>\n",
       "    </tr>\n",
       "    <tr>\n",
       "      <th>3</th>\n",
       "      <td>1</td>\n",
       "      <td>0</td>\n",
       "      <td>0</td>\n",
       "      <td>0</td>\n",
       "      <td>0</td>\n",
       "      <td>0</td>\n",
       "      <td>0</td>\n",
       "      <td>0</td>\n",
       "      <td>0</td>\n",
       "      <td>1</td>\n",
       "      <td>0</td>\n",
       "      <td>0</td>\n",
       "      <td>0</td>\n",
       "    </tr>\n",
       "    <tr>\n",
       "      <th>4</th>\n",
       "      <td>0</td>\n",
       "      <td>0</td>\n",
       "      <td>0</td>\n",
       "      <td>0</td>\n",
       "      <td>1</td>\n",
       "      <td>1</td>\n",
       "      <td>0</td>\n",
       "      <td>0</td>\n",
       "      <td>0</td>\n",
       "      <td>0</td>\n",
       "      <td>0</td>\n",
       "      <td>0</td>\n",
       "      <td>0</td>\n",
       "    </tr>\n",
       "    <tr>\n",
       "      <th>...</th>\n",
       "      <td>...</td>\n",
       "      <td>...</td>\n",
       "      <td>...</td>\n",
       "      <td>...</td>\n",
       "      <td>...</td>\n",
       "      <td>...</td>\n",
       "      <td>...</td>\n",
       "      <td>...</td>\n",
       "      <td>...</td>\n",
       "      <td>...</td>\n",
       "      <td>...</td>\n",
       "      <td>...</td>\n",
       "      <td>...</td>\n",
       "    </tr>\n",
       "    <tr>\n",
       "      <th>42290</th>\n",
       "      <td>1</td>\n",
       "      <td>0</td>\n",
       "      <td>0</td>\n",
       "      <td>0</td>\n",
       "      <td>0</td>\n",
       "      <td>0</td>\n",
       "      <td>0</td>\n",
       "      <td>1</td>\n",
       "      <td>1</td>\n",
       "      <td>0</td>\n",
       "      <td>1</td>\n",
       "      <td>0</td>\n",
       "      <td>0</td>\n",
       "    </tr>\n",
       "    <tr>\n",
       "      <th>42291</th>\n",
       "      <td>1</td>\n",
       "      <td>0</td>\n",
       "      <td>0</td>\n",
       "      <td>0</td>\n",
       "      <td>0</td>\n",
       "      <td>0</td>\n",
       "      <td>0</td>\n",
       "      <td>0</td>\n",
       "      <td>0</td>\n",
       "      <td>0</td>\n",
       "      <td>0</td>\n",
       "      <td>0</td>\n",
       "      <td>0</td>\n",
       "    </tr>\n",
       "    <tr>\n",
       "      <th>42292</th>\n",
       "      <td>1</td>\n",
       "      <td>0</td>\n",
       "      <td>1</td>\n",
       "      <td>0</td>\n",
       "      <td>0</td>\n",
       "      <td>0</td>\n",
       "      <td>1</td>\n",
       "      <td>0</td>\n",
       "      <td>1</td>\n",
       "      <td>0</td>\n",
       "      <td>1</td>\n",
       "      <td>1</td>\n",
       "      <td>0</td>\n",
       "    </tr>\n",
       "    <tr>\n",
       "      <th>42293</th>\n",
       "      <td>1</td>\n",
       "      <td>0</td>\n",
       "      <td>0</td>\n",
       "      <td>0</td>\n",
       "      <td>0</td>\n",
       "      <td>1</td>\n",
       "      <td>0</td>\n",
       "      <td>0</td>\n",
       "      <td>1</td>\n",
       "      <td>0</td>\n",
       "      <td>0</td>\n",
       "      <td>1</td>\n",
       "      <td>0</td>\n",
       "    </tr>\n",
       "    <tr>\n",
       "      <th>42294</th>\n",
       "      <td>1</td>\n",
       "      <td>0</td>\n",
       "      <td>0</td>\n",
       "      <td>0</td>\n",
       "      <td>0</td>\n",
       "      <td>1</td>\n",
       "      <td>0</td>\n",
       "      <td>0</td>\n",
       "      <td>0</td>\n",
       "      <td>0</td>\n",
       "      <td>0</td>\n",
       "      <td>0</td>\n",
       "      <td>0</td>\n",
       "    </tr>\n",
       "  </tbody>\n",
       "</table>\n",
       "<p>42034 rows × 13 columns</p>\n",
       "</div>"
      ],
      "text/plain": [
       "       red  ink  blackberry  currant  peach  light  black  rich  fruit  \\\n",
       "0        1    0           1        0      0      0      1     0      0   \n",
       "1        0    0           0        0      1      0      0     1      1   \n",
       "2        0    0           0        0      0      0      0     0      1   \n",
       "3        1    0           0        0      0      0      0     0      0   \n",
       "4        0    0           0        0      1      1      0     0      0   \n",
       "...    ...  ...         ...      ...    ...    ...    ...   ...    ...   \n",
       "42290    1    0           0        0      0      0      0     1      1   \n",
       "42291    1    0           0        0      0      0      0     0      0   \n",
       "42292    1    0           1        0      0      0      1     0      1   \n",
       "42293    1    0           0        0      0      1      0     0      1   \n",
       "42294    1    0           0        0      0      1      0     0      0   \n",
       "\n",
       "       floral  cherr  plum  lemon  \n",
       "0           0      0     1      0  \n",
       "1           0      0     0      0  \n",
       "2           0      0     0      0  \n",
       "3           1      0     0      0  \n",
       "4           0      0     0      0  \n",
       "...       ...    ...   ...    ...  \n",
       "42290       0      1     0      0  \n",
       "42291       0      0     0      0  \n",
       "42292       0      1     1      0  \n",
       "42293       0      0     1      0  \n",
       "42294       0      0     0      0  \n",
       "\n",
       "[42034 rows x 13 columns]"
      ]
     },
     "execution_count": 41,
     "metadata": {},
     "output_type": "execute_result"
    }
   ],
   "source": [
    "train_df = pd.DataFrame({\n",
    "    'red': df.red,\n",
    "    'ink': df.wine_desc.str.contains(\"ink\", re.IGNORECASE, na=False).astype(int),\n",
    "    'blackberry': df.wine_desc.str.contains(\"blackberry\", re.IGNORECASE, na=False).astype(int),\n",
    "    'currant': df.wine_desc.str.contains(\"currant\", re.IGNORECASE, na=False).astype(int),\n",
    "    'peach': df.wine_desc.str.contains(\"peach\", re.IGNORECASE, na=False).astype(int),\n",
    "    'light': df.wine_desc.str.contains(\"light\", re.IGNORECASE, na=False).astype(int),\n",
    "    'black': df.wine_desc.str.contains(\"black\", re.IGNORECASE, na=False).astype(int),\n",
    "    'rich': df.wine_desc.str.contains(\"rich\", re.IGNORECASE, na=False).astype(int),\n",
    "    'fruit': df.wine_desc.str.contains(\"fruit\", re.IGNORECASE, na=False).astype(int),\n",
    "    'floral': df.wine_desc.str.contains(\"floral\", re.IGNORECASE, na=False).astype(int),\n",
    "    'cherr': df.wine_desc.str.contains(\"cherr\", re.IGNORECASE, na=False).astype(int),\n",
    "    'plum': df.wine_desc.str.contains(\"plum\", re.IGNORECASE, na=False).astype(int),\n",
    "    'lemon': df.wine_desc.str.contains(\"lemon\", re.IGNORECASE, na=False).astype(int),\n",
    "})\n",
    "train_df"
   ]
  },
  {
   "cell_type": "code",
   "execution_count": 42,
   "metadata": {},
   "outputs": [],
   "source": [
    "X = train_df.drop(columns='red')\n",
    "y = train_df.red"
   ]
  },
  {
   "cell_type": "code",
   "execution_count": 43,
   "metadata": {},
   "outputs": [],
   "source": [
    "from sklearn.model_selection import train_test_split\n",
    "\n",
    "X_train, X_test, y_train, y_test = train_test_split(X, y)"
   ]
  },
  {
   "cell_type": "code",
   "execution_count": 44,
   "metadata": {},
   "outputs": [
    {
     "data": {
      "text/plain": [
       "ExtraTreesClassifier()"
      ]
     },
     "execution_count": 44,
     "metadata": {},
     "output_type": "execute_result"
    }
   ],
   "source": [
    "from sklearn.ensemble import ExtraTreesClassifier\n",
    "\n",
    "clf = ExtraTreesClassifier()\n",
    "clf.fit(X_train, y_train)"
   ]
  },
  {
   "cell_type": "code",
   "execution_count": 45,
   "metadata": {},
   "outputs": [
    {
     "data": {
      "text/plain": [
       "0.7929393852888"
      ]
     },
     "execution_count": 45,
     "metadata": {},
     "output_type": "execute_result"
    }
   ],
   "source": [
    "clf.score(X_test, y_test)"
   ]
  },
  {
   "cell_type": "code",
   "execution_count": 46,
   "metadata": {},
   "outputs": [
    {
     "data": {
      "text/html": [
       "<div>\n",
       "<style scoped>\n",
       "    .dataframe tbody tr th:only-of-type {\n",
       "        vertical-align: middle;\n",
       "    }\n",
       "\n",
       "    .dataframe tbody tr th {\n",
       "        vertical-align: top;\n",
       "    }\n",
       "\n",
       "    .dataframe thead th {\n",
       "        text-align: right;\n",
       "    }\n",
       "</style>\n",
       "<table border=\"1\" class=\"dataframe\">\n",
       "  <thead>\n",
       "    <tr style=\"text-align: right;\">\n",
       "      <th></th>\n",
       "      <th>Predicted not red</th>\n",
       "      <th>Predicted red</th>\n",
       "    </tr>\n",
       "  </thead>\n",
       "  <tbody>\n",
       "    <tr>\n",
       "      <th>Is not red</th>\n",
       "      <td>3894</td>\n",
       "      <td>308</td>\n",
       "    </tr>\n",
       "    <tr>\n",
       "      <th>Is red</th>\n",
       "      <td>1868</td>\n",
       "      <td>4439</td>\n",
       "    </tr>\n",
       "  </tbody>\n",
       "</table>\n",
       "</div>"
      ],
      "text/plain": [
       "            Predicted not red  Predicted red\n",
       "Is not red               3894            308\n",
       "Is red                   1868           4439"
      ]
     },
     "execution_count": 46,
     "metadata": {},
     "output_type": "execute_result"
    }
   ],
   "source": [
    "from sklearn.metrics import confusion_matrix\n",
    "\n",
    "y_true = y_test\n",
    "y_pred = clf.predict(X_test)\n",
    "matrix = confusion_matrix(y_true, y_pred)\n",
    "\n",
    "label_names = pd.Series(['not red', 'red'])\n",
    "pd.DataFrame(matrix,\n",
    "     columns='Predicted ' + label_names,\n",
    "     index='Is ' + label_names)"
   ]
  },
  {
   "cell_type": "code",
   "execution_count": 47,
   "metadata": {},
   "outputs": [
    {
     "data": {
      "text/html": [
       "\n",
       "    <style>\n",
       "    table.eli5-weights tr:hover {\n",
       "        filter: brightness(85%);\n",
       "    }\n",
       "</style>\n",
       "\n",
       "\n",
       "\n",
       "    \n",
       "\n",
       "    \n",
       "        \n",
       "        <pre>\n",
       "Random forest feature importances; values are numbers 0 <= x <= 1;\n",
       "all values sum to 1.\n",
       "</pre>\n",
       "    \n",
       "\n",
       "    \n",
       "\n",
       "    \n",
       "\n",
       "    \n",
       "\n",
       "    \n",
       "\n",
       "\n",
       "    \n",
       "\n",
       "    \n",
       "\n",
       "    \n",
       "\n",
       "    \n",
       "\n",
       "    \n",
       "        <table class=\"eli5-weights eli5-feature-importances\" style=\"border-collapse: collapse; border: none; margin-top: 0em; table-layout: auto;\">\n",
       "    <thead>\n",
       "    <tr style=\"border: none;\">\n",
       "        <th style=\"padding: 0 1em 0 0.5em; text-align: right; border: none;\">Weight</th>\n",
       "        <th style=\"padding: 0 0.5em 0 0.5em; text-align: left; border: none;\">Feature</th>\n",
       "    </tr>\n",
       "    </thead>\n",
       "    <tbody>\n",
       "    \n",
       "        <tr style=\"background-color: hsl(120, 100.00%, 80.00%); border: none;\">\n",
       "            <td style=\"padding: 0 1em 0 0.5em; text-align: right; border: none;\">\n",
       "                0.3252\n",
       "                \n",
       "                    &plusmn; 0.2040\n",
       "                \n",
       "            </td>\n",
       "            <td style=\"padding: 0 0.5em 0 0.5em; text-align: left; border: none;\">\n",
       "                black\n",
       "            </td>\n",
       "        </tr>\n",
       "    \n",
       "        <tr style=\"background-color: hsl(120, 100.00%, 82.92%); border: none;\">\n",
       "            <td style=\"padding: 0 1em 0 0.5em; text-align: right; border: none;\">\n",
       "                0.2597\n",
       "                \n",
       "                    &plusmn; 0.0899\n",
       "                \n",
       "            </td>\n",
       "            <td style=\"padding: 0 0.5em 0 0.5em; text-align: left; border: none;\">\n",
       "                cherr\n",
       "            </td>\n",
       "        </tr>\n",
       "    \n",
       "        <tr style=\"background-color: hsl(120, 100.00%, 88.75%); border: none;\">\n",
       "            <td style=\"padding: 0 1em 0 0.5em; text-align: right; border: none;\">\n",
       "                0.1429\n",
       "                \n",
       "                    &plusmn; 0.1057\n",
       "                \n",
       "            </td>\n",
       "            <td style=\"padding: 0 0.5em 0 0.5em; text-align: left; border: none;\">\n",
       "                peach\n",
       "            </td>\n",
       "        </tr>\n",
       "    \n",
       "        <tr style=\"background-color: hsl(120, 100.00%, 90.56%); border: none;\">\n",
       "            <td style=\"padding: 0 1em 0 0.5em; text-align: right; border: none;\">\n",
       "                0.1112\n",
       "                \n",
       "                    &plusmn; 0.0880\n",
       "                \n",
       "            </td>\n",
       "            <td style=\"padding: 0 0.5em 0 0.5em; text-align: left; border: none;\">\n",
       "                lemon\n",
       "            </td>\n",
       "        </tr>\n",
       "    \n",
       "        <tr style=\"background-color: hsl(120, 100.00%, 93.21%); border: none;\">\n",
       "            <td style=\"padding: 0 1em 0 0.5em; text-align: right; border: none;\">\n",
       "                0.0695\n",
       "                \n",
       "                    &plusmn; 0.0259\n",
       "                \n",
       "            </td>\n",
       "            <td style=\"padding: 0 0.5em 0 0.5em; text-align: left; border: none;\">\n",
       "                plum\n",
       "            </td>\n",
       "        </tr>\n",
       "    \n",
       "        <tr style=\"background-color: hsl(120, 100.00%, 94.95%); border: none;\">\n",
       "            <td style=\"padding: 0 1em 0 0.5em; text-align: right; border: none;\">\n",
       "                0.0456\n",
       "                \n",
       "                    &plusmn; 0.1125\n",
       "                \n",
       "            </td>\n",
       "            <td style=\"padding: 0 0.5em 0 0.5em; text-align: left; border: none;\">\n",
       "                blackberry\n",
       "            </td>\n",
       "        </tr>\n",
       "    \n",
       "        <tr style=\"background-color: hsl(120, 100.00%, 97.65%); border: none;\">\n",
       "            <td style=\"padding: 0 1em 0 0.5em; text-align: right; border: none;\">\n",
       "                0.0153\n",
       "                \n",
       "                    &plusmn; 0.0300\n",
       "                \n",
       "            </td>\n",
       "            <td style=\"padding: 0 0.5em 0 0.5em; text-align: left; border: none;\">\n",
       "                currant\n",
       "            </td>\n",
       "        </tr>\n",
       "    \n",
       "        <tr style=\"background-color: hsl(120, 100.00%, 98.21%); border: none;\">\n",
       "            <td style=\"padding: 0 1em 0 0.5em; text-align: right; border: none;\">\n",
       "                0.0104\n",
       "                \n",
       "                    &plusmn; 0.0051\n",
       "                \n",
       "            </td>\n",
       "            <td style=\"padding: 0 0.5em 0 0.5em; text-align: left; border: none;\">\n",
       "                rich\n",
       "            </td>\n",
       "        </tr>\n",
       "    \n",
       "        <tr style=\"background-color: hsl(120, 100.00%, 98.68%); border: none;\">\n",
       "            <td style=\"padding: 0 1em 0 0.5em; text-align: right; border: none;\">\n",
       "                0.0067\n",
       "                \n",
       "                    &plusmn; 0.0050\n",
       "                \n",
       "            </td>\n",
       "            <td style=\"padding: 0 0.5em 0 0.5em; text-align: left; border: none;\">\n",
       "                fruit\n",
       "            </td>\n",
       "        </tr>\n",
       "    \n",
       "        <tr style=\"background-color: hsl(120, 100.00%, 98.95%); border: none;\">\n",
       "            <td style=\"padding: 0 1em 0 0.5em; text-align: right; border: none;\">\n",
       "                0.0049\n",
       "                \n",
       "                    &plusmn; 0.0056\n",
       "                \n",
       "            </td>\n",
       "            <td style=\"padding: 0 0.5em 0 0.5em; text-align: left; border: none;\">\n",
       "                light\n",
       "            </td>\n",
       "        </tr>\n",
       "    \n",
       "        <tr style=\"background-color: hsl(120, 100.00%, 98.97%); border: none;\">\n",
       "            <td style=\"padding: 0 1em 0 0.5em; text-align: right; border: none;\">\n",
       "                0.0047\n",
       "                \n",
       "                    &plusmn; 0.0031\n",
       "                \n",
       "            </td>\n",
       "            <td style=\"padding: 0 0.5em 0 0.5em; text-align: left; border: none;\">\n",
       "                floral\n",
       "            </td>\n",
       "        </tr>\n",
       "    \n",
       "        <tr style=\"background-color: hsl(120, 100.00%, 99.07%); border: none;\">\n",
       "            <td style=\"padding: 0 1em 0 0.5em; text-align: right; border: none;\">\n",
       "                0.0040\n",
       "                \n",
       "                    &plusmn; 0.0024\n",
       "                \n",
       "            </td>\n",
       "            <td style=\"padding: 0 0.5em 0 0.5em; text-align: left; border: none;\">\n",
       "                ink\n",
       "            </td>\n",
       "        </tr>\n",
       "    \n",
       "    \n",
       "    </tbody>\n",
       "</table>\n",
       "    \n",
       "\n",
       "    \n",
       "\n",
       "\n",
       "\n"
      ],
      "text/plain": [
       "<IPython.core.display.HTML object>"
      ]
     },
     "execution_count": 47,
     "metadata": {},
     "output_type": "execute_result"
    }
   ],
   "source": [
    "import eli5\n",
    "\n",
    "feature_names=list(X.columns)\n",
    "eli5.show_weights(clf, feature_names=feature_names, show=['description', 'feature_importances'])"
   ]
  }
 ],
 "metadata": {
  "kernelspec": {
   "display_name": "Python 3",
   "language": "python",
   "name": "python3"
  },
  "language_info": {
   "codemirror_mode": {
    "name": "ipython",
    "version": 3
   },
   "file_extension": ".py",
   "mimetype": "text/x-python",
   "name": "python",
   "nbconvert_exporter": "python",
   "pygments_lexer": "ipython3",
   "version": "3.8.6"
  }
 },
 "nbformat": 4,
 "nbformat_minor": 2
}
