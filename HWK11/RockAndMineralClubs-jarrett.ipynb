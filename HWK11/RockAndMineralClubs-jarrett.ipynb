{
 "cells": [
  {
   "cell_type": "markdown",
   "metadata": {},
   "source": [
    "# Rock and Mineral Clubs\n",
    "\n",
    "Scrape all of the rock and mineral clubs listed at https://rocktumbler.com/blog/rock-and-mineral-clubs/ (but don't just cut and paste!)\n",
    "\n",
    "Save a CSV called `rock-clubs.csv` with the name of the club, their URL, and the city they're located in.\n",
    "\n",
    "**Bonus**: Add a column for the state. There are a few ways to do this, but knowing that `element.parent` goes 'up' one element might be helpful.\n",
    "\n",
    "* _**Hint:** The name of the club and the city are both inside of td elements, and they aren't distinguishable by class. Instead you'll just want to ask for all of the tds and then just ask for the text from the first or second one._\n",
    "* _**Hint:** If you use BeautifulSoup, you can select elements by attributes other than class or id - instead of `doc.find_all({'class': 'cat'})` you can do things like `doc.find_all({'other_attribute': 'blah'})` (sorry for the awful example)._\n",
    "* _**Hint:** If you love `pd.read_html` you might also be interested in `pd.concat` and potentially `list()`. But you'll have to clean a little more!_"
   ]
  },
  {
   "cell_type": "code",
   "execution_count": null,
   "metadata": {},
   "outputs": [],
   "source": [
    "import re\n",
    "import requests\n",
    "import pandas as pd\n",
    "import numpy as np\n",
    "from bs4 import BeautifulSoup"
   ]
  },
  {
   "cell_type": "code",
   "execution_count": null,
   "metadata": {},
   "outputs": [],
   "source": [
    "#Set headers and grab HTML\n",
    "headers = {\n",
    "    'User-Agent': 'Mozilla/5.0 (Windows NT 10.0; Win64; x64)' \\\n",
    "    'AppleWebKit/537.36 (KHTML, like Gecko) Chrome/87.0.4280.66 Safari/537.36'\n",
    "}\n",
    "\n",
    "url = \"https://rocktumbler.com/blog/rock-and-mineral-clubs/\"\n",
    "html = requests.get(url, headers=headers).content\n",
    "soup = BeautifulSoup(html, \"html.parser\")\n",
    "soup"
   ]
  },
  {
   "cell_type": "code",
   "execution_count": null,
   "metadata": {},
   "outputs": [],
   "source": [
    "all_rows = []\n",
    "count = 0\n",
    "\n",
    "for row in soup.find_all('tr'):\n",
    "    #Get states\n",
    "    if row.find('h3') is not None:\n",
    "        try:\n",
    "            state = re.search('^(\\w+) Rock and Mineral Clubs', row.find('h3').string).group(1)\n",
    "        except:\n",
    "            pass\n",
    "    else:\n",
    "    #Get all other info, save to dictionary\n",
    "        try:\n",
    "            name = row.find('a').string\n",
    "            city = row.find_all('td')[1].string\n",
    "            url = row.find('a').get('href')\n",
    "            count += 1\n",
    "            row_dictionary = {\n",
    "                'name': name,\n",
    "                'city': city,\n",
    "                'url': url,\n",
    "                'state': state\n",
    "            }\n",
    "            all_rows.append(row_dictionary)\n",
    "        except:\n",
    "            break\n",
    "all_rows"
   ]
  },
  {
   "cell_type": "code",
   "execution_count": null,
   "metadata": {},
   "outputs": [],
   "source": [
    "#Save to dataframe\n",
    "df = pd.DataFrame(all_rows)\n",
    "df"
   ]
  },
  {
   "cell_type": "code",
   "execution_count": null,
   "metadata": {},
   "outputs": [],
   "source": [
    "#Save to CSV\n",
    "df.to_csv('rock-clubs.csv', index=False)"
   ]
  }
 ],
 "metadata": {
  "kernelspec": {
   "display_name": "Python 3",
   "language": "python",
   "name": "python3"
  },
  "language_info": {
   "codemirror_mode": {
    "name": "ipython",
    "version": 3
   },
   "file_extension": ".py",
   "mimetype": "text/x-python",
   "name": "python",
   "nbconvert_exporter": "python",
   "pygments_lexer": "ipython3",
   "version": "3.8.6"
  }
 },
 "nbformat": 4,
 "nbformat_minor": 2
}
